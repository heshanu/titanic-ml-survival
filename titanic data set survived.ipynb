{
 "cells": [
  {
   "cell_type": "markdown",
   "metadata": {},
   "source": [
    "import numpy as np\n",
    "import pandas as pd\n",
    "\n",
    "data=pd.read_csv(r\"C:\\Users\\ACER\\Downloads\\titanic data\\train.csv\")\n",
    "data.head()"
   ]
  },
  {
   "cell_type": "markdown",
   "metadata": {},
   "source": [
    "columns_target=[\"Survived\"]\n",
    "columns_train=[\"Age\",\"Pclass\",\"Sex\",\"Fare\"]\n",
    "\n",
    "X=data[columns_train]\n",
    "Y=data[columns_target]\n",
    "\n",
    "X[\"Sex\"].isnull().sum()\n",
    "X[\"Pclass\"].isnull().sum()\n",
    "X[\"Fare\"].isnull().sum()\n",
    "X[\"Age\"].isnull().sum()\n",
    "\n",
    "X[\"Age\"]=X[\"Age\"].fillna(X['Age'].median())\n",
    "X[\"Age\"].isnull().sum()\n",
    "\n",
    "d={'male':0,'female':1}\n",
    "X['Sex']=X['Sex'].apply(lambda x:d[x])\n",
    "X[\"Sex\"].head()\n",
    "\n",
    "X.head()"
   ]
  },
  {
   "cell_type": "markdown",
   "metadata": {},
   "source": [
    "from sklearn.model_selection import train_test_split\n",
    "X_train,X_test,Y_train,Y_test=train_test_split(X,Y,test_size=0.33,random_state=42)\n",
    "\n",
    "from sklearn import svm\n",
    "clf=svm.LinearSVC()\n",
    "\n",
    "clf.fit(X_train,Y_train)\n",
    "print(clf)"
   ]
  },
  {
   "cell_type": "markdown",
   "metadata": {},
   "source": [
    "print(clf.predict(X_test[0:5]))#0 male survivers and 1 for female survivers\n",
    "print(clf.predict(X_test[0:10]))"
   ]
  },
  {
   "cell_type": "markdown",
   "metadata": {},
   "source": [
    "print(clf.score(X_test,Y_test))"
   ]
  },
  {
   "cell_type": "markdown",
   "metadata": {},
   "source": [
    "col_target=[\"Survived\"]\n",
    "col_train=[\"Age\",\"Sex\"]\n",
    "\n",
    "X=data[col_train]\n",
    "Y=data[col_target]\n",
    "\n",
    "X['Sex'].isnull().sum()\n",
    "X['Age'].isnull().sum()\n",
    "\n",
    "X['Age']=X['Age'].fillna(X['Age'].median())\n",
    "X['Age'].isnull().sum()\n",
    "\n",
    "d={'male':0,'female':1}\n",
    "X['Sex']=X['Sex'].apply(lambda x:d[x])\n",
    "X['Sex'].head()\n",
    "X.head()"
   ]
  },
  {
   "cell_type": "markdown",
   "metadata": {},
   "source": [
    "from sklearn.model_selection import train_test_split\n",
    "import matplotlib.pyplot as plt\n",
    "X_train,X_test,Y_train,Y_test=train_test_split(X,Y,test_size=0.33,random_state=42)\n",
    "\n",
    "from sklearn import svm\n",
    "clf=svm.LinearSVC()\n",
    "clf.fit(X_train,Y_train)\n",
    "print(clf.predict(X_test[0:10]))#0 for male 1 for female\n",
    "plt.show()"
   ]
  },
  {
   "cell_type": "markdown",
   "metadata": {},
   "source": [
    "import matplotlib.pyplot as plt\n",
    "X1=X_test\n",
    "Y1=Y_t\n",
    "\n",
    "plt.plot(X1,Y1)\n",
    "plt.show()"
   ]
  },
  {
   "cell_type": "code",
   "execution_count": 11,
   "metadata": {},
   "outputs": [
    {
     "data": {
      "image/png": "[encoded data removed]",
      "text/plain": [
       "<Figure size 432x288 with 1 Axes>"
      ]
     },
     "metadata": {
      "needs_background": "light"
     },
     "output_type": "display_data"
    }
   ],
   "source": [
    "import pandas as pd\n",
    "import matplotlib.pyplot as plt\n",
    "\n",
    "df=pd.read_csv(r\"C:\\Users\\ACER\\Downloads\\titanic data\\train.csv\")\n",
    "#df.head()\n",
    "\n",
    "df.Survived.value_counts().plot(kind=\"bar\",alpha=0.5)\n",
    "plt.ylabel(\"number of people\")\n",
    "plt.xlabel(\"live or dead  0 for dead,1 for live\")\n",
    "plt.title(\"titanic data\")\n",
    "plt.show()\n"
   ]
  },
  {
   "cell_type": "code",
   "execution_count": 41,
   "metadata": {},
   "outputs": [
    {
     "data": {
      "image/png": "[encoded data removed]",
      "text/plain": [
       "<Figure size 432x288 with 1 Axes>"
      ]
     },
     "metadata": {
      "needs_background": "light"
     },
     "output_type": "display_data"
    },
    {
     "data": {
      "image/png": "[encoded data removed]",
      "text/plain": [
       "<Figure size 432x288 with 1 Axes>"
      ]
     },
     "metadata": {
      "needs_background": "light"
     },
     "output_type": "display_data"
    },
    {
     "data": {
      "text/plain": [
       "Text(0, 0.5, 'number of people')"
      ]
     },
     "execution_count": 41,
     "metadata": {},
     "output_type": "execute_result"
    },
    {
     "data": {
      "image/png": "[encoded data removed]",
      "text/plain": [
       "<Figure size 432x288 with 1 Axes>"
      ]
     },
     "metadata": {
      "needs_background": "light"
     },
     "output_type": "display_data"
    }
   ],
   "source": [
    "plt.subplot2grid((2,3),(0,0))\n",
    "df.Survived.value_counts(normalize=True).plot(kind=\"bar\",alpha=0.9)\n",
    "plt.title(\"age wrt survived\")\n",
    "plt.show()\n",
    "\n",
    "plt.subplot2grid((2,3),(0,1))\n",
    "df.Survived[df.Sex==\"male\"].value_counts(normalize=True).plot(kind=\"bar\",alpha=0.9)\n",
    "plt.title(\"survived male\")\n",
    "plt.xlabel(\"0 for dead ,1 for living\")\n",
    "plt.ylabel(\"number of people\")\n",
    "\n",
    "plt.subplot2grid((2,3),(0,1))\n",
    "df.Survived[df.Sex==\"female\"].value_counts(normalize=True).plot(kind=\"bar\",alpha=0.9)\n",
    "plt.title(\"survived female\")\n",
    "plt.xlabel(\"0 for dead ,1 for living\")\n",
    "plt.ylabel(\"number of people\")\n",
    "\n",
    "plt.subplot2grid((2,3),(0,1))\n",
    "df.Sex[df.Survived==1].value_counts(normalize=True).plot(kind=\"bar\",alpha=0.9)\n",
    "plt.title(\"survived sexuality\")\n",
    "plt.xlabel(\"0 for dead ,1 for living\")\n",
    "plt.ylabel(\"number of people\")\n",
    "plt.show()\n",
    "\n",
    "plt.subplot2grid((2,3),(0,2))\n",
    "df.Survived[(df.Sex==\"female\") & (df.Pclass==1)].value_counts(normalize=True).plot(kind=\"bar\",alpha=0.9)\n",
    "plt.title(\"survived rich people\")\n",
    "plt.xlabel(\"0 for men ,1 for female\")\n",
    "plt.ylabel(\"number of people\")\n",
    "\n",
    "plt.subplot2grid((2,3),(0,2))\n",
    "df.Survived[(df.Sex==\"female\") & (df.Pclass==3)].value_counts(normalize=True).plot(kind=\"bar\",alpha=0.9)\n",
    "plt.title(\"survived poor people\")\n",
    "plt.xlabel(\"0 for men ,1 for female\")\n",
    "plt.ylabel(\"number of people\")\n"
   ]
  },
  {
   "cell_type": "code",
   "execution_count": 64,
   "metadata": {},
   "outputs": [
    {
     "ename": "SyntaxError",
     "evalue": "invalid syntax (<ipython-input-64-9730bef61240>, line 8)",
     "output_type": "error",
     "traceback": [
      "\u001b[1;36m  File \u001b[1;32m\"<ipython-input-64-9730bef61240>\"\u001b[1;36m, line \u001b[1;32m8\u001b[0m\n\u001b[1;33m    print(train[\"Result\"].value_counts(normalize=True) )\u001b[0m\n\u001b[1;37m        ^\u001b[0m\n\u001b[1;31mSyntaxError\u001b[0m\u001b[1;31m:\u001b[0m invalid syntax\n"
     ]
    }
   ],
   "source": [
    "train=pd.read_csv(r\"C:\\Users\\ACER\\Downloads\\titanic data\\train.csv\")\n",
    "train[\"Hyp\"]=0\n",
    "train.loc[train.Sex=='female','Hyp']=1\n",
    "\n",
    "train[\"Result\"]=0\n",
    "train.loc[train.Survived==train[\"Hyp\",\"Result\"]==1\n",
    "\n",
    "print(train[\"Result\"].value_counts(normalize=True) )\n",
    "\n"
   ]
  },
  {
   "cell_type": "code",
   "execution_count": null,
   "metadata": {},
   "outputs": [],
   "source": []
  }
 ],
 "metadata": {
  "kernelspec": {
   "display_name": "Python 3",
   "language": "python",
   "name": "python3"
  },
  "language_info": {
   "codemirror_mode": {
    "name": "ipython",
    "version": 3
   },
   "file_extension": ".py",
   "mimetype": "text/x-python",
   "name": "python",
   "nbconvert_exporter": "python",
   "pygments_lexer": "ipython3",
   "version": "3.7.1"
  }
 },
 "nbformat": 4,
 "nbformat_minor": 2
}
